{
 "cells": [
  {
   "cell_type": "code",
   "execution_count": 1,
   "id": "9cc545c3-743b-49c1-82f9-68cf0b9dc255",
   "metadata": {
    "tags": []
   },
   "outputs": [],
   "source": [
    "!pip install -U transformers faiss-gpu rank_bm25 --quiet"
   ]
  },
  {
   "cell_type": "code",
   "execution_count": 2,
   "id": "34c5e801-3c50-4d20-abf3-72b329217797",
   "metadata": {
    "tags": []
   },
   "outputs": [
    {
     "data": {
      "text/plain": [
       "'4.36.2'"
      ]
     },
     "execution_count": 2,
     "metadata": {},
     "output_type": "execute_result"
    }
   ],
   "source": [
    "import transformers\n",
    "\n",
    "transformers.__version__"
   ]
  },
  {
   "cell_type": "code",
   "execution_count": 3,
   "id": "8e9884d4-988f-45b9-9666-0ce5d44c413c",
   "metadata": {
    "tags": []
   },
   "outputs": [
    {
     "name": "stderr",
     "output_type": "stream",
     "text": [
      "2023-12-20 20:03:27.777298: I tensorflow/core/platform/cpu_feature_guard.cc:193] This TensorFlow binary is optimized with oneAPI Deep Neural Network Library (oneDNN) to use the following CPU instructions in performance-critical operations:  AVX2 FMA\n",
      "To enable them in other operations, rebuild TensorFlow with the appropriate compiler flags.\n"
     ]
    }
   ],
   "source": [
    "import torch\n",
    "import torch.nn.functional as F\n",
    "from transformers import AutoModel, AutoTokenizer, Pipeline\n",
    "from datasets import Dataset, load_dataset\n",
    "import numpy as np\n",
    "import pandas as pd"
   ]
  },
  {
   "cell_type": "markdown",
   "id": "175e5b5d-ead3-476f-85b8-91d19b25d8df",
   "metadata": {},
   "source": [
    "# Dataset"
   ]
  },
  {
   "cell_type": "code",
   "execution_count": 4,
   "id": "20fd32c6-2492-4015-95f8-96c8f51ab461",
   "metadata": {
    "tags": []
   },
   "outputs": [
    {
     "data": {
      "text/plain": [
       "Dataset({\n",
       "    features: ['id', 'title', 'context', 'question', 'answers'],\n",
       "    num_rows: 130319\n",
       "})"
      ]
     },
     "execution_count": 4,
     "metadata": {},
     "output_type": "execute_result"
    }
   ],
   "source": [
    "ds = load_dataset(\"squad_v2\")[\"train\"]\n",
    "ds"
   ]
  },
  {
   "cell_type": "code",
   "execution_count": 5,
   "id": "24f88912-12d7-4d59-ad3a-085dfeb68d6e",
   "metadata": {
    "tags": []
   },
   "outputs": [
    {
     "data": {
      "text/plain": [
       "(19029, 130319)"
      ]
     },
     "execution_count": 5,
     "metadata": {},
     "output_type": "execute_result"
    }
   ],
   "source": [
    "df = pd.DataFrame(ds[\"context\"])\n",
    "df.columns = [\"context\"]\n",
    "len(df.context.unique()), len(df)"
   ]
  },
  {
   "cell_type": "code",
   "execution_count": 6,
   "id": "ee72ca4d-49c1-4b42-9dc1-52292a97f405",
   "metadata": {
    "tags": []
   },
   "outputs": [],
   "source": [
    "# Get unique contexts and create id\n",
    "df = pd.DataFrame(columns=[\"context\"], data=df.context.unique())\n",
    "df[\"id\"] = [i for i in range(len(df))]"
   ]
  },
  {
   "cell_type": "code",
   "execution_count": 7,
   "id": "08ff553b-4936-48b9-8537-c48be262a39f",
   "metadata": {
    "tags": []
   },
   "outputs": [],
   "source": [
    "# Helper to map question to unique context\n",
    "def get_context_id(row: str) -> int:\n",
    "    num = df[df[\"context\"] == row][\"id\"]\n",
    "    return num"
   ]
  },
  {
   "cell_type": "code",
   "execution_count": 8,
   "id": "62b3ac8c-cd72-4b87-85d5-bf40daca7a41",
   "metadata": {
    "tags": []
   },
   "outputs": [
    {
     "data": {
      "text/plain": [
       "Dataset({\n",
       "    features: ['id', 'title', 'context', 'question', 'answers'],\n",
       "    num_rows: 86821\n",
       "})"
      ]
     },
     "execution_count": 8,
     "metadata": {},
     "output_type": "execute_result"
    }
   ],
   "source": [
    "# Remove rows without answer\n",
    "ds = ds.filter(lambda row: len(row[\"answers\"].get(\"text\")) > 0)\n",
    "ds"
   ]
  },
  {
   "cell_type": "code",
   "execution_count": 9,
   "id": "eab80b4d-5fd0-4028-b825-cf0956928403",
   "metadata": {
    "tags": []
   },
   "outputs": [],
   "source": [
    "# Map questions to unique context id\n",
    "ds = ds.map(lambda row: {\"context_id\": get_context_id(row[\"context\"])})"
   ]
  },
  {
   "cell_type": "code",
   "execution_count": 10,
   "id": "769c3775-5fa2-462a-9d4a-41d9d2817dd2",
   "metadata": {
    "tags": []
   },
   "outputs": [
    {
     "data": {
      "text/plain": [
       "Dataset({\n",
       "    features: ['id', 'title', 'context', 'question', 'answers', 'context_id'],\n",
       "    num_rows: 86821\n",
       "})"
      ]
     },
     "execution_count": 10,
     "metadata": {},
     "output_type": "execute_result"
    }
   ],
   "source": [
    "ds"
   ]
  },
  {
   "cell_type": "code",
   "execution_count": 11,
   "id": "cbde9a9e-6610-4422-9cfe-a2bc5d7fdba7",
   "metadata": {
    "tags": []
   },
   "outputs": [
    {
     "data": {
      "text/html": [
       "<div>\n",
       "<style scoped>\n",
       "    .dataframe tbody tr th:only-of-type {\n",
       "        vertical-align: middle;\n",
       "    }\n",
       "\n",
       "    .dataframe tbody tr th {\n",
       "        vertical-align: top;\n",
       "    }\n",
       "\n",
       "    .dataframe thead th {\n",
       "        text-align: right;\n",
       "    }\n",
       "</style>\n",
       "<table border=\"1\" class=\"dataframe\">\n",
       "  <thead>\n",
       "    <tr style=\"text-align: right;\">\n",
       "      <th></th>\n",
       "      <th>question</th>\n",
       "      <th>context_id</th>\n",
       "    </tr>\n",
       "  </thead>\n",
       "  <tbody>\n",
       "    <tr>\n",
       "      <th>0</th>\n",
       "      <td>When did Beyonce start becoming popular?</td>\n",
       "      <td>[0]</td>\n",
       "    </tr>\n",
       "    <tr>\n",
       "      <th>1</th>\n",
       "      <td>What areas did Beyonce compete in when she was...</td>\n",
       "      <td>[0]</td>\n",
       "    </tr>\n",
       "  </tbody>\n",
       "</table>\n",
       "</div>"
      ],
      "text/plain": [
       "                                            question context_id\n",
       "0           When did Beyonce start becoming popular?        [0]\n",
       "1  What areas did Beyonce compete in when she was...        [0]"
      ]
     },
     "execution_count": 11,
     "metadata": {},
     "output_type": "execute_result"
    }
   ],
   "source": [
    "# Extract questions with id to iterratable DataFrame\n",
    "questions = pd.DataFrame(ds)[[\"question\", \"context_id\"]]\n",
    "questions.head(2)"
   ]
  },
  {
   "cell_type": "code",
   "execution_count": 12,
   "id": "f942232b-fb3f-4c5d-ac7c-0591beab66e1",
   "metadata": {
    "tags": []
   },
   "outputs": [
    {
     "data": {
      "text/plain": [
       "Dataset({\n",
       "    features: ['context', 'id'],\n",
       "    num_rows: 19029\n",
       "})"
      ]
     },
     "execution_count": 12,
     "metadata": {},
     "output_type": "execute_result"
    }
   ],
   "source": [
    "# Create searchable \"database\"\n",
    "database = Dataset.from_pandas(df)\n",
    "database"
   ]
  },
  {
   "cell_type": "markdown",
   "id": "4335ee41-0900-4127-8a7e-7226bc1e0204",
   "metadata": {},
   "source": [
    "# Model"
   ]
  },
  {
   "cell_type": "code",
   "execution_count": 13,
   "id": "d21eea35-b84a-4859-b940-6e5905518235",
   "metadata": {
    "tags": []
   },
   "outputs": [
    {
     "data": {
      "text/plain": [
       "'cuda:0'"
      ]
     },
     "execution_count": 13,
     "metadata": {},
     "output_type": "execute_result"
    }
   ],
   "source": [
    "device = \"cuda:0\" if torch.cuda.is_available() else \"cpu\"\n",
    "device"
   ]
  },
  {
   "cell_type": "code",
   "execution_count": 14,
   "id": "612e3903-a24d-4809-8fe8-76a09cecee7c",
   "metadata": {
    "tags": []
   },
   "outputs": [],
   "source": [
    "def mean_pooling(model_output, attention_mask):\n",
    "    token_embeddings = model_output[0] #First element of model_output contains all token embeddings\n",
    "    input_mask_expanded = attention_mask.unsqueeze(-1).expand(token_embeddings.size()).float()\n",
    "    return torch.sum(token_embeddings * input_mask_expanded, 1) / torch.clamp(input_mask_expanded.sum(1), min=1e-9)\n",
    "\n",
    "\n",
    "class EmbeddingPipeline(Pipeline):\n",
    "    def _sanitize_parameters(self, **kwargs):\n",
    "        preprocess_kwargs = {}\n",
    "        return preprocess_kwargs, {}, {}\n",
    "\n",
    "\n",
    "    def preprocess(self, text):\n",
    "        encoded_text = self.tokenizer(text, padding=True, truncation=True, return_tensors='pt').to(device)\n",
    "        return encoded_text\n",
    "\n",
    "\n",
    "    def _forward(self, model_inputs):\n",
    "        outputs = self.model(**model_inputs)\n",
    "        return {\"outputs\": outputs, \"attention_mask\": model_inputs[\"attention_mask\"]}\n",
    "\n",
    "\n",
    "    def postprocess(self, model_outputs):\n",
    "        sentence_embeddings = mean_pooling(model_outputs[\"outputs\"], model_outputs['attention_mask'])\n",
    "        sentence_embeddings = F.normalize(sentence_embeddings, p=2, dim=1)\n",
    "        return sentence_embeddings[0].numpy()"
   ]
  },
  {
   "cell_type": "code",
   "execution_count": 15,
   "id": "4e00325e-4cff-46cb-8c76-24a92e01be3d",
   "metadata": {
    "tags": []
   },
   "outputs": [],
   "source": [
    "def get_true_values(q_id: int, preds: list) -> list:\n",
    "    return [1 if i == q_id else 0 for i in preds]"
   ]
  },
  {
   "cell_type": "code",
   "execution_count": null,
   "id": "c3057548-7890-4366-826a-b639e96fbd3f",
   "metadata": {},
   "outputs": [
    {
     "name": "stderr",
     "output_type": "stream",
     "text": [
      "  0%|          | 0/3 [00:00<?, ?it/s]"
     ]
    },
    {
     "data": {
      "application/vnd.jupyter.widget-view+json": {
       "model_id": "cbabdf5b4b31414fbb968c2dd38c1009",
       "version_major": 2,
       "version_minor": 0
      },
      "text/plain": [
       "Map:   0%|          | 0/19029 [00:00<?, ? examples/s]"
      ]
     },
     "metadata": {},
     "output_type": "display_data"
    },
    {
     "name": "stderr",
     "output_type": "stream",
     "text": [
      "/opt/conda/lib/python3.10/site-packages/transformers/pipelines/base.py:1101: UserWarning: You seem to be using the pipelines sequentially on GPU. In order to maximize efficiency please use a dataset\n",
      "  warnings.warn(\n"
     ]
    },
    {
     "data": {
      "application/vnd.jupyter.widget-view+json": {
       "model_id": "2eed9f23d31c4ae6897a7e8c6503b769",
       "version_major": 2,
       "version_minor": 0
      },
      "text/plain": [
       "  0%|          | 0/20 [00:00<?, ?it/s]"
      ]
     },
     "metadata": {},
     "output_type": "display_data"
    }
   ],
   "source": [
    "from tqdm import tqdm\n",
    "from sklearn.metrics import ndcg_score\n",
    "\n",
    "\n",
    "result = []\n",
    "\n",
    "encoder_list = [\n",
    "    \"BAAI/bge-large-en-v1.5\",\n",
    "    \"WhereIsAI/UAE-Large-V1\",\n",
    "    \"sentence-transformers/all-mpnet-base-v2\"\n",
    "]\n",
    "\n",
    "with tqdm(total=len(encoder_list)) as pbar:    \n",
    "    for model_id in encoder_list:\n",
    "        y_true = []\n",
    "        y_pred = []\n",
    "        model = AutoModel.from_pretrained(model_id).to(device)\n",
    "        tokenizer = AutoTokenizer.from_pretrained(model_id)\n",
    "        encoder = EmbeddingPipeline(model=model, tokenizer=tokenizer, device=device)\n",
    "        database = database.map(lambda row: {\"embedding\": encoder(row[\"context\"])})\n",
    "        database = database.add_faiss_index(column=\"embedding\")\n",
    "\n",
    "        for i, (q, cid) in questions.iterrows():\n",
    "            question = encoder(q)\n",
    "            scores, docs = database.get_nearest_examples('embedding', question, k=5)\n",
    "            scores = np.divide(1, scores)\n",
    "            relevance = get_true_values(cid[0], docs[\"id\"])\n",
    "\n",
    "            y_true.append(relevance)\n",
    "            y_pred.append(scores)\n",
    "\n",
    "        res = ndcg_score(y_true, y_pred)\n",
    "        result.append(\n",
    "            {\n",
    "                \"model\": model_id,\n",
    "                \"score\": res\n",
    "            }\n",
    "        )\n",
    "        \n",
    "        pbar.update(1)"
   ]
  },
  {
   "cell_type": "code",
   "execution_count": null,
   "id": "4196d104-cfaa-4638-afb8-e96035855458",
   "metadata": {},
   "outputs": [],
   "source": [
    "# TODO: BM25"
   ]
  },
  {
   "cell_type": "code",
   "execution_count": null,
   "id": "136e5904-f8e6-414a-898b-add2e09899d9",
   "metadata": {
    "tags": []
   },
   "outputs": [],
   "source": [
    "result_df = pd.DataFrame(result)\n",
    "result_df.to_csv(\"results.csv\")\n",
    "result_df"
   ]
  }
 ],
 "metadata": {
  "kernelspec": {
   "display_name": "Python 3 (ipykernel)",
   "language": "python",
   "name": "python3"
  },
  "language_info": {
   "codemirror_mode": {
    "name": "ipython",
    "version": 3
   },
   "file_extension": ".py",
   "mimetype": "text/x-python",
   "name": "python",
   "nbconvert_exporter": "python",
   "pygments_lexer": "ipython3",
   "version": "3.10.11"
  }
 },
 "nbformat": 4,
 "nbformat_minor": 5
}
