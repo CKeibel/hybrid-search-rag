{
 "cells": [
  {
   "cell_type": "code",
   "execution_count": 2,
   "id": "34c5e801-3c50-4d20-abf3-72b329217797",
   "metadata": {
    "tags": []
   },
   "outputs": [
    {
     "data": {
      "text/plain": [
       "'4.36.2'"
      ]
     },
     "execution_count": 2,
     "metadata": {},
     "output_type": "execute_result"
    }
   ],
   "source": [
    "import transformers\n",
    "\n",
    "transformers.__version__"
   ]
  },
  {
   "cell_type": "code",
   "execution_count": 3,
   "id": "8e9884d4-988f-45b9-9666-0ce5d44c413c",
   "metadata": {
    "tags": []
   },
   "outputs": [
    {
     "name": "stderr",
     "output_type": "stream",
     "text": [
      "[nltk_data] Downloading package punkt to\n",
      "[nltk_data]     C:\\Users\\ckeibel\\AppData\\Roaming\\nltk_data...\n",
      "[nltk_data]   Package punkt is already up-to-date!\n"
     ]
    },
    {
     "data": {
      "text/plain": [
       "True"
      ]
     },
     "execution_count": 3,
     "metadata": {},
     "output_type": "execute_result"
    }
   ],
   "source": [
    "import chromadb\n",
    "import torch\n",
    "import torch.nn.functional as F\n",
    "from transformers import AutoModel, AutoTokenizer, Pipeline\n",
    "from datasets import Dataset, load_dataset\n",
    "import numpy as np\n",
    "import pandas as pd\n",
    "from rank_bm25 import BM25Okapi\n",
    "import nltk\n",
    "\n",
    "nltk.download('punkt')"
   ]
  },
  {
   "cell_type": "markdown",
   "id": "175e5b5d-ead3-476f-85b8-91d19b25d8df",
   "metadata": {},
   "source": [
    "# Dataset"
   ]
  },
  {
   "cell_type": "code",
   "execution_count": 4,
   "id": "20fd32c6-2492-4015-95f8-96c8f51ab461",
   "metadata": {
    "tags": []
   },
   "outputs": [
    {
     "data": {
      "text/plain": [
       "Dataset({\n",
       "    features: ['id', 'title', 'context', 'question', 'answers'],\n",
       "    num_rows: 130319\n",
       "})"
      ]
     },
     "execution_count": 4,
     "metadata": {},
     "output_type": "execute_result"
    }
   ],
   "source": [
    "ds = load_dataset(\"squad_v2\")[\"train\"]\n",
    "ds"
   ]
  },
  {
   "cell_type": "markdown",
   "id": "0c0015fb-70b0-48fd-9dfa-e8dff1304256",
   "metadata": {},
   "source": [
    "## Semantic search prep"
   ]
  },
  {
   "cell_type": "code",
   "execution_count": 5,
   "id": "24f88912-12d7-4d59-ad3a-085dfeb68d6e",
   "metadata": {
    "tags": []
   },
   "outputs": [
    {
     "data": {
      "text/plain": [
       "(19029, 130319)"
      ]
     },
     "execution_count": 5,
     "metadata": {},
     "output_type": "execute_result"
    }
   ],
   "source": [
    "contexts = pd.DataFrame(ds[\"context\"])\n",
    "contexts.columns = [\"context\"]\n",
    "len(contexts.context.unique()), len(contexts)"
   ]
  },
  {
   "cell_type": "code",
   "execution_count": 6,
   "id": "ee72ca4d-49c1-4b42-9dc1-52292a97f405",
   "metadata": {
    "tags": []
   },
   "outputs": [],
   "source": [
    "# Get unique contexts and create id\n",
    "contexts = pd.DataFrame(columns=[\"context\"], data=contexts.context.unique())\n",
    "contexts[\"id\"] = [i for i in range(len(contexts))]"
   ]
  },
  {
   "cell_type": "code",
   "execution_count": 7,
   "id": "08ff553b-4936-48b9-8537-c48be262a39f",
   "metadata": {
    "tags": []
   },
   "outputs": [],
   "source": [
    "# Helper to map question to unique context\n",
    "def get_context_id(row: str) -> int:\n",
    "    num = contexts[contexts[\"context\"] == row][\"id\"]\n",
    "    return num"
   ]
  },
  {
   "cell_type": "code",
   "execution_count": 8,
   "id": "62b3ac8c-cd72-4b87-85d5-bf40daca7a41",
   "metadata": {
    "tags": []
   },
   "outputs": [
    {
     "data": {
      "text/plain": [
       "Dataset({\n",
       "    features: ['id', 'title', 'context', 'question', 'answers'],\n",
       "    num_rows: 86821\n",
       "})"
      ]
     },
     "execution_count": 8,
     "metadata": {},
     "output_type": "execute_result"
    }
   ],
   "source": [
    "# Remove rows without answer\n",
    "ds = ds.filter(lambda row: len(row[\"answers\"].get(\"text\")) > 0)\n",
    "ds"
   ]
  },
  {
   "cell_type": "code",
   "execution_count": 9,
   "id": "eab80b4d-5fd0-4028-b825-cf0956928403",
   "metadata": {
    "tags": []
   },
   "outputs": [],
   "source": [
    "# Map questions to unique context id\n",
    "ds = ds.map(lambda row: {\"context_id\": get_context_id(row[\"context\"])})"
   ]
  },
  {
   "cell_type": "code",
   "execution_count": 10,
   "id": "769c3775-5fa2-462a-9d4a-41d9d2817dd2",
   "metadata": {
    "tags": []
   },
   "outputs": [
    {
     "data": {
      "text/plain": [
       "Dataset({\n",
       "    features: ['id', 'title', 'context', 'question', 'answers', 'context_id'],\n",
       "    num_rows: 86821\n",
       "})"
      ]
     },
     "execution_count": 10,
     "metadata": {},
     "output_type": "execute_result"
    }
   ],
   "source": [
    "ds"
   ]
  },
  {
   "cell_type": "code",
   "execution_count": 11,
   "id": "cbde9a9e-6610-4422-9cfe-a2bc5d7fdba7",
   "metadata": {
    "tags": []
   },
   "outputs": [
    {
     "data": {
      "text/html": [
       "<div>\n",
       "<style scoped>\n",
       "    .dataframe tbody tr th:only-of-type {\n",
       "        vertical-align: middle;\n",
       "    }\n",
       "\n",
       "    .dataframe tbody tr th {\n",
       "        vertical-align: top;\n",
       "    }\n",
       "\n",
       "    .dataframe thead th {\n",
       "        text-align: right;\n",
       "    }\n",
       "</style>\n",
       "<table border=\"1\" class=\"dataframe\">\n",
       "  <thead>\n",
       "    <tr style=\"text-align: right;\">\n",
       "      <th></th>\n",
       "      <th>question</th>\n",
       "      <th>context_id</th>\n",
       "    </tr>\n",
       "  </thead>\n",
       "  <tbody>\n",
       "    <tr>\n",
       "      <th>0</th>\n",
       "      <td>When did Beyonce start becoming popular?</td>\n",
       "      <td>[0]</td>\n",
       "    </tr>\n",
       "    <tr>\n",
       "      <th>1</th>\n",
       "      <td>What areas did Beyonce compete in when she was...</td>\n",
       "      <td>[0]</td>\n",
       "    </tr>\n",
       "  </tbody>\n",
       "</table>\n",
       "</div>"
      ],
      "text/plain": [
       "                                            question context_id\n",
       "0           When did Beyonce start becoming popular?        [0]\n",
       "1  What areas did Beyonce compete in when she was...        [0]"
      ]
     },
     "execution_count": 11,
     "metadata": {},
     "output_type": "execute_result"
    }
   ],
   "source": [
    "# Extract questions with id to iterratable DataFrame\n",
    "questions = pd.DataFrame(ds)[[\"question\", \"context_id\"]]\n",
    "questions.head(2)"
   ]
  },
  {
   "cell_type": "code",
   "execution_count": 12,
   "id": "60d00a68-535d-40f8-8fc6-3fa2af7775ca",
   "metadata": {},
   "outputs": [
    {
     "data": {
      "text/html": [
       "<div>\n",
       "<style scoped>\n",
       "    .dataframe tbody tr th:only-of-type {\n",
       "        vertical-align: middle;\n",
       "    }\n",
       "\n",
       "    .dataframe tbody tr th {\n",
       "        vertical-align: top;\n",
       "    }\n",
       "\n",
       "    .dataframe thead th {\n",
       "        text-align: right;\n",
       "    }\n",
       "</style>\n",
       "<table border=\"1\" class=\"dataframe\">\n",
       "  <thead>\n",
       "    <tr style=\"text-align: right;\">\n",
       "      <th></th>\n",
       "      <th>context</th>\n",
       "      <th>id</th>\n",
       "    </tr>\n",
       "  </thead>\n",
       "  <tbody>\n",
       "    <tr>\n",
       "      <th>0</th>\n",
       "      <td>Beyoncé Giselle Knowles-Carter (/biːˈjɒnseɪ/ b...</td>\n",
       "      <td>0</td>\n",
       "    </tr>\n",
       "    <tr>\n",
       "      <th>1</th>\n",
       "      <td>Following the disbandment of Destiny's Child i...</td>\n",
       "      <td>1</td>\n",
       "    </tr>\n",
       "  </tbody>\n",
       "</table>\n",
       "</div>"
      ],
      "text/plain": [
       "                                             context  id\n",
       "0  Beyoncé Giselle Knowles-Carter (/biːˈjɒnseɪ/ b...   0\n",
       "1  Following the disbandment of Destiny's Child i...   1"
      ]
     },
     "execution_count": 12,
     "metadata": {},
     "output_type": "execute_result"
    }
   ],
   "source": [
    "contexts.head(2)"
   ]
  },
  {
   "cell_type": "markdown",
   "id": "01fde504-dcff-4d1e-8fa9-54c6b741bad3",
   "metadata": {},
   "source": [
    "## Keyword search prep"
   ]
  },
  {
   "cell_type": "code",
   "execution_count": 13,
   "id": "9dd5450e-359e-45b9-bf54-6418a44cdc3f",
   "metadata": {},
   "outputs": [],
   "source": [
    "def bm25_tokenize(doc: str) -> list[str]:\n",
    "    tokens = nltk.word_tokenize(doc)\n",
    "    return tokens"
   ]
  },
  {
   "cell_type": "markdown",
   "id": "4335ee41-0900-4127-8a7e-7226bc1e0204",
   "metadata": {},
   "source": [
    "# Model"
   ]
  },
  {
   "cell_type": "code",
   "execution_count": 14,
   "id": "d21eea35-b84a-4859-b940-6e5905518235",
   "metadata": {
    "tags": []
   },
   "outputs": [
    {
     "data": {
      "text/plain": [
       "'cuda:0'"
      ]
     },
     "execution_count": 14,
     "metadata": {},
     "output_type": "execute_result"
    }
   ],
   "source": [
    "device = \"cuda:0\" if torch.cuda.is_available() else \"cpu\"\n",
    "device"
   ]
  },
  {
   "cell_type": "code",
   "execution_count": 15,
   "id": "612e3903-a24d-4809-8fe8-76a09cecee7c",
   "metadata": {
    "tags": []
   },
   "outputs": [],
   "source": [
    "def mean_pooling(model_output, attention_mask):\n",
    "    token_embeddings = model_output[0] #First element of model_output contains all token embeddings\n",
    "    input_mask_expanded = attention_mask.unsqueeze(-1).expand(token_embeddings.size()).float()\n",
    "    return torch.sum(token_embeddings * input_mask_expanded, 1) / torch.clamp(input_mask_expanded.sum(1), min=1e-9)\n",
    "\n",
    "\n",
    "class EmbeddingPipeline(Pipeline):\n",
    "    def _sanitize_parameters(self, **kwargs):\n",
    "        preprocess_kwargs = {}\n",
    "        return preprocess_kwargs, {}, {}\n",
    "\n",
    "\n",
    "    def preprocess(self, text):\n",
    "        encoded_text = self.tokenizer(text, padding=True, truncation=True, return_tensors='pt').to(device)\n",
    "        return encoded_text\n",
    "\n",
    "\n",
    "    def _forward(self, model_inputs):\n",
    "        outputs = self.model(**model_inputs)\n",
    "        return {\"outputs\": outputs, \"attention_mask\": model_inputs[\"attention_mask\"]}\n",
    "\n",
    "\n",
    "    def postprocess(self, model_outputs):\n",
    "        sentence_embeddings = mean_pooling(model_outputs[\"outputs\"], model_outputs['attention_mask'])\n",
    "        sentence_embeddings = F.normalize(sentence_embeddings, p=2, dim=1)\n",
    "        return sentence_embeddings[0].numpy()"
   ]
  },
  {
   "cell_type": "code",
   "execution_count": 16,
   "id": "4e00325e-4cff-46cb-8c76-24a92e01be3d",
   "metadata": {
    "tags": []
   },
   "outputs": [],
   "source": [
    "def get_true_values(q_id: int, preds: list) -> list:\n",
    "    return [1 if i == q_id else 0 for i in preds]"
   ]
  },
  {
   "cell_type": "code",
   "execution_count": 18,
   "id": "c0dc79c3-2000-4b1a-a6b7-682f1263925c",
   "metadata": {},
   "outputs": [],
   "source": [
    "def hybrid_score(semantic_score: float, keyword_score: float, alpha: float = 0.5) -> float:\n",
    "    hybrid_score = (1 - alpha) * keyword_score + alpha * semantic_score\n",
    "    return hybrid_score"
   ]
  },
  {
   "cell_type": "code",
   "execution_count": 76,
   "id": "beced1b4-4d55-402c-995a-17be5a524f2e",
   "metadata": {},
   "outputs": [],
   "source": [
    "chroma_client.delete_collection(name=\"squad_v2\")"
   ]
  },
  {
   "cell_type": "code",
   "execution_count": 77,
   "id": "c3057548-7890-4366-826a-b639e96fbd3f",
   "metadata": {},
   "outputs": [
    {
     "name": "stdout",
     "output_type": "stream",
     "text": [
      "Chroma: 1/19029\n",
      "Questions: 1/86821\n",
      "Semantic: 0.337729806375078 - Hybrid: 0.7150613800281623\n",
      "Chroma: 1/19029\n"
     ]
    },
    {
     "name": "stderr",
     "output_type": "stream",
     "text": [
      "C:\\Users\\ckeibel\\Documents\\lernen\\rag\\.rag\\lib\\site-packages\\transformers\\pipelines\\base.py:1101: UserWarning: You seem to be using the pipelines sequentially on GPU. In order to maximize efficiency please use a dataset\n",
      "  warnings.warn(\n"
     ]
    },
    {
     "name": "stdout",
     "output_type": "stream",
     "text": [
      "Questions: 1/86821\n",
      "Semantic: 0.33024802195630615 - Hybrid: 0.7005957366790988\n",
      "Chroma: 1/19029\n"
     ]
    },
    {
     "name": "stderr",
     "output_type": "stream",
     "text": [
      "C:\\Users\\ckeibel\\Documents\\lernen\\rag\\.rag\\lib\\site-packages\\transformers\\pipelines\\base.py:1101: UserWarning: You seem to be using the pipelines sequentially on GPU. In order to maximize efficiency please use a dataset\n",
      "  warnings.warn(\n"
     ]
    },
    {
     "name": "stdout",
     "output_type": "stream",
     "text": [
      "Questions: 1/86821\n",
      "Semantic: 0.341901282067171 - Hybrid: 0.7122281567391423\n"
     ]
    }
   ],
   "source": [
    "from tqdm import tqdm\n",
    "from sklearn.metrics import ndcg_score\n",
    "\n",
    "# init chroma client\n",
    "chroma_client = chromadb.Client()\n",
    "\n",
    "eval = []\n",
    "\n",
    "encoder_list = [\n",
    "    \"BAAI/bge-large-en-v1.5\",\n",
    "    \"WhereIsAI/UAE-Large-V1\",\n",
    "    \"sentence-transformers/all-mpnet-base-v2\"\n",
    "]\n",
    "\n",
    "for model_id in encoder_list:\n",
    "    # Store preds and true relevance for metrics\n",
    "    semantic_true = []\n",
    "    semantic_pred = []\n",
    "    hybrid_true = []\n",
    "    hybrid_pred = [] \n",
    "    # Init chroma collection\n",
    "    collection = chroma_client.create_collection(name=\"squad_v2\", metadata={\"hnsw:space\": \"cosine\"})\n",
    "    # init model\n",
    "    model = AutoModel.from_pretrained(model_id).to(device)\n",
    "    tokenizer = AutoTokenizer.from_pretrained(model_id)\n",
    "    encoder = EmbeddingPipeline(model=model, tokenizer=tokenizer, device=device)\n",
    "\n",
    "    # Add embeddings to chroma\n",
    "    for i, (context, cid) in contexts.iterrows():\n",
    "        embedding_vector = encoder(context).tolist()\n",
    "        collection.add(\n",
    "            embeddings=[embedding_vector],\n",
    "            documents=[context],\n",
    "            metadatas=[{\"context_id\": cid}],\n",
    "            ids=[str(i)]\n",
    "        )\n",
    "\n",
    "    for i2, (q, cid) in questions.iterrows():\n",
    "        question = encoder(q).tolist()\n",
    "        result = collection.query(\n",
    "            query_embeddings=question,\n",
    "            n_results=5,\n",
    "        )\n",
    "        # doc results\n",
    "        doc_ids = [metadata[\"context_id\"] for metadata in result[\"metadatas\"][0]]\n",
    "        scores = result[\"distances\"][0]\n",
    "        retrieved_docs = {did: score for did, score in zip(doc_ids, scores)}\n",
    "        \n",
    "        # without bm25\n",
    "        ## true relevance\n",
    "        relevance = get_true_values(cid[0], retrieved_docs.keys())\n",
    "        semantic_true.append(relevance)\n",
    "        ## preds\n",
    "        semantic_pred.append(list(retrieved_docs.values()))\n",
    "\n",
    "        # hybrid\n",
    "        ## bm25 scores\n",
    "        tokenized_docs = [bm25_tokenize(doc) for doc in result[\"documents\"][0]] \n",
    "        bm25 = BM25Okapi(tokenized_docs)\n",
    "        tokenized_query = bm25_tokenize(q)\n",
    "        bm25_scores = bm25.get_scores(tokenized_query)\n",
    "        # Calcualte hybrid score\n",
    "        hybrid_docs = {\n",
    "            key: hybrid_score(s_score, bm25_score) \n",
    "            for key, s_score, bm25_score \n",
    "            in zip(retrieved_docs.keys(), list(retrieved_docs.values()), bm25_scores)\n",
    "        }\n",
    "        # Sort by score\n",
    "        hybrid_docs = {k: v for k, v in sorted(hybrid_docs.items(), key=lambda item: item[1], reverse=True)}\n",
    "        \n",
    "        ## true relevance\n",
    "        relevance = get_true_values(cid[0], hybrid_docs.keys())\n",
    "        hybrid_true.append(relevance)\n",
    "        ## preds\n",
    "        hybrid_pred.append(list(hybrid_docs.values()))\n",
    "    \n",
    "    semantic_res = ndcg_score(semantic_true, semantic_pred)\n",
    "    hybrid_res = ndcg_score(hybrid_true, hybrid_pred)\n",
    "    eval.append(\n",
    "        {\n",
    "            \"model\": model_id,\n",
    "            \"semantic_score\": semantic_res,\n",
    "            \"hybrid_score\": hybrid_res\n",
    "        }\n",
    "    )\n",
    "    print(f\"Semantic: {semantic_res} - Hybrid: {hybrid_res}\")\n",
    "    chroma_client.delete_collection(name=\"squad_v2\")"
   ]
  },
  {
   "cell_type": "code",
   "execution_count": 78,
   "id": "136e5904-f8e6-414a-898b-add2e09899d9",
   "metadata": {
    "tags": []
   },
   "outputs": [
    {
     "data": {
      "text/html": [
       "<div>\n",
       "<style scoped>\n",
       "    .dataframe tbody tr th:only-of-type {\n",
       "        vertical-align: middle;\n",
       "    }\n",
       "\n",
       "    .dataframe tbody tr th {\n",
       "        vertical-align: top;\n",
       "    }\n",
       "\n",
       "    .dataframe thead th {\n",
       "        text-align: right;\n",
       "    }\n",
       "</style>\n",
       "<table border=\"1\" class=\"dataframe\">\n",
       "  <thead>\n",
       "    <tr style=\"text-align: right;\">\n",
       "      <th></th>\n",
       "      <th>model</th>\n",
       "      <th>semantic_score</th>\n",
       "      <th>hybrid_score</th>\n",
       "    </tr>\n",
       "  </thead>\n",
       "  <tbody>\n",
       "    <tr>\n",
       "      <th>0</th>\n",
       "      <td>BAAI/bge-large-en-v1.5</td>\n",
       "      <td>0.337730</td>\n",
       "      <td>0.715061</td>\n",
       "    </tr>\n",
       "    <tr>\n",
       "      <th>1</th>\n",
       "      <td>WhereIsAI/UAE-Large-V1</td>\n",
       "      <td>0.330248</td>\n",
       "      <td>0.700596</td>\n",
       "    </tr>\n",
       "    <tr>\n",
       "      <th>2</th>\n",
       "      <td>sentence-transformers/all-mpnet-base-v2</td>\n",
       "      <td>0.341901</td>\n",
       "      <td>0.712228</td>\n",
       "    </tr>\n",
       "  </tbody>\n",
       "</table>\n",
       "</div>"
      ],
      "text/plain": [
       "                                     model  semantic_score  hybrid_score\n",
       "0                   BAAI/bge-large-en-v1.5        0.337730      0.715061\n",
       "1                   WhereIsAI/UAE-Large-V1        0.330248      0.700596\n",
       "2  sentence-transformers/all-mpnet-base-v2        0.341901      0.712228"
      ]
     },
     "execution_count": 78,
     "metadata": {},
     "output_type": "execute_result"
    }
   ],
   "source": [
    "result_df = pd.DataFrame(eval)\n",
    "result_df.to_csv(\"results-bm25.csv\")\n",
    "result_df"
   ]
  }
 ],
 "metadata": {
  "kernelspec": {
   "display_name": "Python 3 (ipykernel)",
   "language": "python",
   "name": "python3"
  },
  "language_info": {
   "codemirror_mode": {
    "name": "ipython",
    "version": 3
   },
   "file_extension": ".py",
   "mimetype": "text/x-python",
   "name": "python",
   "nbconvert_exporter": "python",
   "pygments_lexer": "ipython3",
   "version": "3.10.0"
  }
 },
 "nbformat": 4,
 "nbformat_minor": 5
}
